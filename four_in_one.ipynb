{
 "cells": [
  {
   "cell_type": "code",
   "execution_count": 1,
   "metadata": {},
   "outputs": [
    {
     "name": "stderr",
     "output_type": "stream",
     "text": [
      "Using TensorFlow backend.\n"
     ]
    }
   ],
   "source": [
    "\n",
    "import numpy as np\n",
    "import scipy.io\n",
    "\n",
    "import keras\n",
    "from keras.models import Sequential\n",
    "from keras.layers import Conv2D, MaxPooling2D, LSTM, Dense, Dropout, Flatten\n",
    "from keras.layers.core import Permute, Reshape\n",
    "from keras import backend as K\n",
    "\n",
    "np.random.seed(2)\n",
    "\n"
   ]
  },
  {
   "cell_type": "code",
   "execution_count": 2,
   "metadata": {},
   "outputs": [
    {
     "name": "stdout",
     "output_type": "stream",
     "text": [
      "including MLP/CNN/LSTM/ConvLSTM\n",
      "merging validation set and test set into one\n"
     ]
    }
   ],
   "source": [
    "\n",
    "data = scipy.io.loadmat('data/PAMAP2_f')\n",
    "print('including MLP/CNN/LSTM/ConvLSTM')\n",
    "X_train0 = data['X_train']\n",
    "X_valid0 = data['X_valid']\n",
    "X_test0 = data['X_test']\n",
    "y_train = data['y_train'].reshape(-1).astype(np.uint8)\n",
    "y_valid = data['y_valid'].reshape(-1).astype(np.uint8)\n",
    "y_test = data['y_test'].reshape(-1).astype(np.uint8)\n",
    "\n",
    "print('merging validation set and test set into one')\n",
    "X_valid0 = np.concatenate((X_valid0, X_test0), axis=0)\n",
    "y_valid = np.concatenate((y_valid, y_test), axis=0)\n",
    "\n",
    "num_classes = 12 # 12 classes for PAMAP2\n",
    "\n",
    "# convert class vectors to binary class matrices\n",
    "y_train = keras.utils.to_categorical(y_train, num_classes)\n",
    "y_valid = keras.utils.to_categorical(y_valid, num_classes)\n",
    "\n"
   ]
  },
  {
   "cell_type": "code",
   "execution_count": 3,
   "metadata": {},
   "outputs": [
    {
     "name": "stdout",
     "output_type": "stream",
     "text": [
      "[[ 0.  1.  0. ...,  0.  0.  0.]\n",
      " [ 0.  1.  0. ...,  0.  0.  0.]\n",
      " [ 0.  1.  0. ...,  0.  0.  0.]\n",
      " ..., \n",
      " [ 1.  0.  0. ...,  0.  0.  0.]\n",
      " [ 1.  0.  0. ...,  0.  0.  0.]\n",
      " [ 1.  0.  0. ...,  0.  0.  0.]]\n"
     ]
    }
   ],
   "source": [
    "print(y_train)"
   ]
  },
  {
   "cell_type": "code",
   "execution_count": 4,
   "metadata": {
    "collapsed": true
   },
   "outputs": [],
   "source": [
    "\n",
    "\n",
    "def _data_reshaping(X_tr, X_va, network_type):\n",
    "    _, win_len, dim = X_tr.shape\n",
    "    print(network_type)\n",
    "    if network_type=='CNN' or network_type=='ConvLSTM':\n",
    "        \n",
    "        # make it into (frame_number, dimension, window_size, channel=1) for convNet\n",
    "        X_tr = np.swapaxes(X_tr,1,2)\n",
    "        X_va = np.swapaxes(X_va,1,2)\n",
    "\n",
    "        X_tr = np.reshape(X_tr, (-1, dim, win_len, 1))\n",
    "        X_va = np.reshape(X_va, (-1, dim, win_len, 1))\n",
    "        \n",
    "    if network_type=='MLP':\n",
    "        print('MLP...')\n",
    "        X_tr = np.reshape(X_tr, (-1, dim*win_len))\n",
    "        X_va = np.reshape(X_va, (-1, dim*win_len))\n",
    "    \n",
    "    return X_tr, X_va\n"
   ]
  },
  {
   "cell_type": "code",
   "execution_count": 5,
   "metadata": {
    "collapsed": true
   },
   "outputs": [],
   "source": [
    "\n",
    "def model_variant(model, num_feat_map, dim, network_type):\n",
    "    print(network_type)\n",
    "    if network_type == 'ConvLSTM':\n",
    "        model.add(Permute((2, 1, 3))) # for swap-dimension\n",
    "        model.add(Reshape((-1,num_feat_map*dim)))\n",
    "        model.add(LSTM(32, return_sequences=False, stateful=False))\n",
    "        model.add(Dropout(0.5))\n",
    "    if network_type == 'CNN':\n",
    "        \n",
    "        model.add(Flatten())\n",
    "        model.add(Dense(32, activation='relu'))\n",
    "        model.add(Dropout(0.5))\n",
    "\n",
    "        \n",
    "def model_conv(model, num_feat_map):\n",
    "    model.add(Conv2D(num_feat_map, kernel_size=(1, 5),\n",
    "                 activation='relu',\n",
    "                 input_shape=(dim, win_len, 1),\n",
    "                 padding='same'))\n",
    "    model.add(MaxPooling2D(pool_size=(1, 2)))\n",
    "    model.add(Dropout(0.5))\n",
    "    model.add(Conv2D(num_feat_map, kernel_size=(1, 5), activation='relu',padding='same'))\n",
    "    model.add(MaxPooling2D(pool_size=(1, 2)))\n",
    "    model.add(Dropout(0.5))\n",
    "    \n",
    "def model_LSTM(model):\n",
    "    model.add(LSTM(num_hidden_lstm, \n",
    "               input_shape=(win_len,dim), \n",
    "               return_sequences=True))\n",
    "    model.add(Dropout(0.5))\n",
    "    model.add(LSTM(num_hidden_lstm, return_sequences=False))\n",
    "    model.add(Dropout(0.5))\n",
    "\n",
    "def model_MLP(model, num_hidden_mlp):\n",
    "    model.add(Dense(num_hidden_mlp, activation='relu', input_shape=(dim*win_len,)))\n",
    "    model.add(Dropout(0.5))\n",
    "    model.add(Dense(num_hidden_mlp, activation='relu'))\n",
    "    model.add(Dropout(0.5))\n",
    "    \n",
    "def model_output(model):\n",
    "    model.add(Dense(num_classes, activation='softmax'))\n",
    "    \n",
    "\n",
    "        \n",
    "\n"
   ]
  },
  {
   "cell_type": "code",
   "execution_count": 6,
   "metadata": {},
   "outputs": [
    {
     "name": "stdout",
     "output_type": "stream",
     "text": [
      "ConvLSTM\n"
     ]
    }
   ],
   "source": [
    "batch_size = 128\n",
    "num_feat_map = 16\n",
    "num_hidden_mlp = 128\n",
    "num_hidden_lstm = 64\n",
    "\n",
    "#network_type = 'CNN'\n",
    "network_type = 'ConvLSTM'\n",
    "#network_type = 'LSTM'\n",
    "#network_type = 'MLP'\n",
    "_, win_len, dim = X_train0.shape\n",
    "\n",
    "X_train, X_valid = _data_reshaping(X_train0, X_valid0, network_type)\n"
   ]
  },
  {
   "cell_type": "code",
   "execution_count": 7,
   "metadata": {},
   "outputs": [
    {
     "name": "stdout",
     "output_type": "stream",
     "text": [
      "(9466, 52, 100, 1)\n"
     ]
    }
   ],
   "source": [
    "print(X_train.shape)"
   ]
  },
  {
   "cell_type": "code",
   "execution_count": 8,
   "metadata": {},
   "outputs": [
    {
     "name": "stdout",
     "output_type": "stream",
     "text": [
      "building the model ... \n",
      "ConvLSTM\n",
      "_________________________________________________________________\n",
      "Layer (type)                 Output Shape              Param #   \n",
      "=================================================================\n",
      "conv2d_1 (Conv2D)            (None, 52, 100, 16)       96        \n",
      "_________________________________________________________________\n",
      "max_pooling2d_1 (MaxPooling2 (None, 52, 50, 16)        0         \n",
      "_________________________________________________________________\n",
      "dropout_1 (Dropout)          (None, 52, 50, 16)        0         \n",
      "_________________________________________________________________\n",
      "conv2d_2 (Conv2D)            (None, 52, 50, 16)        1296      \n",
      "_________________________________________________________________\n",
      "max_pooling2d_2 (MaxPooling2 (None, 52, 25, 16)        0         \n",
      "_________________________________________________________________\n",
      "dropout_2 (Dropout)          (None, 52, 25, 16)        0         \n",
      "_________________________________________________________________\n",
      "permute_1 (Permute)          (None, 25, 52, 16)        0         \n",
      "_________________________________________________________________\n",
      "reshape_1 (Reshape)          (None, 25, 832)           0         \n",
      "_________________________________________________________________\n",
      "lstm_1 (LSTM)                (None, 32)                110720    \n",
      "_________________________________________________________________\n",
      "dropout_3 (Dropout)          (None, 32)                0         \n",
      "_________________________________________________________________\n",
      "dense_1 (Dense)              (None, 12)                396       \n",
      "=================================================================\n",
      "Total params: 112,508\n",
      "Trainable params: 112,508\n",
      "Non-trainable params: 0\n",
      "_________________________________________________________________\n"
     ]
    }
   ],
   "source": [
    "\n",
    "print('building the model ... ')\n",
    "model = Sequential()\n",
    "\n",
    "\n",
    "if network_type=='CNN' or network_type=='ConvLSTM':\n",
    "    model_conv(model, num_feat_map)\n",
    "    model_variant(model, num_feat_map, dim, network_type)\n",
    "if network_type=='LSTM':\n",
    "    model_LSTM(model)\n",
    "if network_type=='MLP': \n",
    "    model_MLP(model, num_hidden_mlp) \n",
    "    \n",
    "    \n",
    "    \n",
    "    \n",
    "model_output(model)    \n",
    "model.summary()\n",
    "\n",
    "\n"
   ]
  },
  {
   "cell_type": "code",
   "execution_count": 9,
   "metadata": {},
   "outputs": [
    {
     "name": "stdout",
     "output_type": "stream",
     "text": [
      "Train on 9466 samples, validate on 3478 samples\n",
      "Epoch 1/3\n",
      "9466/9466 [==============================] - 41s - loss: 1.3921 - acc: 0.5724 - val_loss: 0.8619 - val_acc: 0.7910\n",
      "Epoch 2/3\n",
      "9466/9466 [==============================] - 40s - loss: 0.6628 - acc: 0.8295 - val_loss: 0.5586 - val_acc: 0.8718\n",
      "Epoch 3/3\n",
      "9466/9466 [==============================] - 39s - loss: 0.4603 - acc: 0.8908 - val_loss: 0.4963 - val_acc: 0.8712\n"
     ]
    }
   ],
   "source": [
    "epochs = 3\n",
    "\n",
    "model.compile(loss=keras.losses.categorical_crossentropy,\n",
    "              optimizer='adam',\n",
    "              metrics=['accuracy'])\n",
    "\n",
    "H = model.fit(X_train, y_train,\n",
    "            batch_size=batch_size,\n",
    "            epochs=epochs,\n",
    "            verbose=1,\n",
    "            shuffle=True,\n",
    "            validation_data=(X_valid, y_valid))\n"
   ]
  },
  {
   "cell_type": "code",
   "execution_count": 10,
   "metadata": {},
   "outputs": [
    {
     "name": "stdout",
     "output_type": "stream",
     "text": [
      "[[ 43   1   0   1   1   3   0   0   2   0   0   0]\n",
      " [  0 292   0   1   8   0   1   0   5   0   5   0]\n",
      " [  0   2 314   5   0   0   0   1   2   0   8   1]\n",
      " [  0   0  17 126   4   0   0   0  20   0  47  95]\n",
      " [  0   0   0   3 368   0   0   2   7   2   3   0]\n",
      " [  0   8   2   0   1 283   4  11   1   5   0   0]\n",
      " [  0   0   0   4   1   0 277  13   2   2   2   0]\n",
      " [  0   0   0   0   0   0   0 348   1   0   2   2]\n",
      " [  0   0   1   4   0   0   1   0 173   2   3   0]\n",
      " [  0   0   6   3   3   0   3   0  19 110  15   1]\n",
      " [  0   1   1   0   0   0   3   3  26   2 255  12]\n",
      " [  0   0   1   0   0   0   1   0   0   0  29 441]]\n",
      "the mean-f1 score: 0.86\n"
     ]
    }
   ],
   "source": [
    "from sklearn.metrics import confusion_matrix\n",
    "from sklearn.metrics import f1_score\n",
    "\n",
    "y_pred = np.argmax(model.predict(X_valid), axis=1)\n",
    "y_true = np.argmax(y_valid, axis=1)\n",
    "cf_matrix = confusion_matrix(y_true, y_pred)\n",
    "print(cf_matrix)\n",
    "class_wise_f1 = np.round(f1_score(y_true, y_pred, average=None)*100)*0.01\n",
    "print('the mean-f1 score: {:.2f}'.format(np.mean(class_wise_f1)))\n"
   ]
  },
  {
   "cell_type": "code",
   "execution_count": 11,
   "metadata": {},
   "outputs": [
    {
     "name": "stdout",
     "output_type": "stream",
     "text": [
      "in millisecond\n",
      "1.2644190017761616\n"
     ]
    }
   ],
   "source": [
    "import time\n",
    "\n",
    "start = time.time()\n",
    "np.argmax(model.predict(X_valid), axis=1)\n",
    "end = time.time()\n",
    "\n",
    "elapsed = end - start\n",
    "print('in millisecond')\n",
    "print(1000*elapsed/len(X_valid))\n",
    "#print(len(X_valid))"
   ]
  }
 ],
 "metadata": {
  "kernelspec": {
   "display_name": "Python 3",
   "language": "python",
   "name": "python3"
  },
  "language_info": {
   "codemirror_mode": {
    "name": "ipython",
    "version": 3
   },
   "file_extension": ".py",
   "mimetype": "text/x-python",
   "name": "python",
   "nbconvert_exporter": "python",
   "pygments_lexer": "ipython3",
   "version": "3.6.1"
  }
 },
 "nbformat": 4,
 "nbformat_minor": 2
}
